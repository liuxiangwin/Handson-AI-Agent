{
 "cells": [
  {
   "cell_type": "code",
   "execution_count": 1,
   "id": "2886eeae-4e6b-4d41-9e8a-43b8306a5f35",
   "metadata": {},
   "outputs": [
    {
     "name": "stdout",
     "output_type": "stream",
     "text": [
      "\n",
      "\u001b[1m[\u001b[0m\u001b[34;49mnotice\u001b[0m\u001b[1;39;49m]\u001b[0m\u001b[39;49m A new release of pip is available: \u001b[0m\u001b[31;49m24.2\u001b[0m\u001b[39;49m -> \u001b[0m\u001b[32;49m25.0.1\u001b[0m\n",
      "\u001b[1m[\u001b[0m\u001b[34;49mnotice\u001b[0m\u001b[1;39;49m]\u001b[0m\u001b[39;49m To update, run: \u001b[0m\u001b[32;49mpip install --upgrade pip\u001b[0m\n",
      "\n",
      "\u001b[1m[\u001b[0m\u001b[34;49mnotice\u001b[0m\u001b[1;39;49m]\u001b[0m\u001b[39;49m A new release of pip is available: \u001b[0m\u001b[31;49m24.2\u001b[0m\u001b[39;49m -> \u001b[0m\u001b[32;49m25.0.1\u001b[0m\n",
      "\u001b[1m[\u001b[0m\u001b[34;49mnotice\u001b[0m\u001b[1;39;49m]\u001b[0m\u001b[39;49m To update, run: \u001b[0m\u001b[32;49mpip install --upgrade pip\u001b[0m\n",
      "\n",
      "\u001b[1m[\u001b[0m\u001b[34;49mnotice\u001b[0m\u001b[1;39;49m]\u001b[0m\u001b[39;49m A new release of pip is available: \u001b[0m\u001b[31;49m24.2\u001b[0m\u001b[39;49m -> \u001b[0m\u001b[32;49m25.0.1\u001b[0m\n",
      "\u001b[1m[\u001b[0m\u001b[34;49mnotice\u001b[0m\u001b[1;39;49m]\u001b[0m\u001b[39;49m To update, run: \u001b[0m\u001b[32;49mpip install --upgrade pip\u001b[0m\n"
     ]
    }
   ],
   "source": [
    "!pip install google-search-results numexpr --quiet\n",
    "!pip install -q langgraph pgvector langchain pypdf sentence-transformers psycopg langchain-community langchain-anthropic tavily-python pandas openai --quiet\n",
    "# !pip install tavily-python \n",
    "!pip install -U tavily-python langchain_community sentence-transformers --quiet\n",
    "!pip install autogen-agentchat~=0.2 autogen psutil --quiet\n",
    "# !pip install -q langchain-openai termcolor langchain_community duckduckgo_search wikipedia openapi-python-client==0.12.3 langgraph langchain_experimental yfinance\n",
    "!pip install -q langchain-openai langchain-anthropic termcolor langchain_community duckduckgo_search wikipedia openapi-python-client langgraph langchain_experimental openai --quiet\n"
   ]
  },
  {
   "cell_type": "code",
   "execution_count": 2,
   "id": "cac815a7-da93-4cbc-b7f7-e1efabb4f474",
   "metadata": {},
   "outputs": [],
   "source": [
    "# 添加Langsmith 的Tracking\n",
    "import os\n",
    "from uuid import uuid4\n",
    "\n",
    "unique_id = uuid4().hex[0:8]\n",
    "os.environ[\"LANGCHAIN_TRACING_V2\"] = \"true\"\n",
    "os.environ[\"LANGCHAIN_PROJECT\"] = f\"Chapter06_ReAct_Handson_AI_Agent\"\n",
    "os.environ[\"LANGSMITH_API_KEY\"] = \"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\""
   ]
  },
  {
   "cell_type": "code",
   "execution_count": 3,
   "id": "881598dd-d214-4365-8dcb-98472ccc0408",
   "metadata": {},
   "outputs": [],
   "source": [
    "import getpass\n",
    "import os\n",
    "from langchain_openai import ChatOpenAI\n",
    "from langchain_community.tools.tavily_search import TavilySearchResults\n",
    "from langchain.callbacks.streaming_stdout import StreamingStdOutCallbackHandler\n",
    "\n",
    "os.environ[\"TAVILY_API_KEY\"] = \"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\"\n",
    "os.environ['ATHINA_API_KEY'] = \"IhrJrr0krTMRA9ogqi5aaD4ZuYuvMcdG\"\n",
    "\n",
    "os.environ['SERPAPI_API_KEY']= \"d79f01166cee047474b994092fd5f2462c2461490acf51ad91bf48ef10f46c28\"\n",
    "\n",
    "\n",
    "INFERENCE_SERVER_URL = \"http://localhost:8989\"\n",
    "# MODEL_NAME = \"deepseek-ai/DeepSeek-R1-Distill-Qwen-7B\"\n",
    "MODEL_NAME = \"deepseek-ai/DeepSeek-R1-Distill-Qwen-14B\"\n",
    "API_KEY= \"alanliuxiang\"\n",
    "\n",
    "llm = ChatOpenAI(\n",
    "    openai_api_key=API_KEY,\n",
    "    openai_api_base= f\"{INFERENCE_SERVER_URL}/v1\",\n",
    "    model_name=MODEL_NAME,\n",
    "    top_p=0.92,\n",
    "    temperature=0.01,\n",
    "    max_tokens=512,\n",
    "    presence_penalty=1.03,\n",
    "    streaming=True,\n",
    "    callbacks=[StreamingStdOutCallbackHandler()]\n",
    ")\n"
   ]
  },
  {
   "cell_type": "code",
   "execution_count": 4,
   "id": "ee20d900-b2de-441d-9195-2a5a5680c5a7",
   "metadata": {},
   "outputs": [],
   "source": [
    "# from langchain_community.tools.tavily_search import TavilySearchResults\n",
    "# tool = TavilySearchResults(max_results=2)\n",
    "# tools = [tool]\n",
    "# tool.invoke(\"What's a 'node' in LangGraph?\")\n",
    "\n"
   ]
  },
  {
   "cell_type": "code",
   "execution_count": 5,
   "id": "e7910206-c199-4438-b1bc-10e96ef7c5d5",
   "metadata": {},
   "outputs": [],
   "source": [
    "# 设置工具\n",
    "# from langchain.agents import AgentExecutor, Tool, ZeroShotAgent\n",
    "# from langchain_community.utilities import SerpAPIWrapper\n",
    "# from langchain.agents import load_tools\n",
    "# tools = load_tools([\"serpapi\", \"llm-math\"], \n",
    "#                    llm=llm)"
   ]
  },
  {
   "cell_type": "code",
   "execution_count": 6,
   "id": "f1b22be7-7740-4e7f-8073-c8cdaefbe1b5",
   "metadata": {
    "scrolled": true
   },
   "outputs": [],
   "source": [
    "from langchain.agents import AgentExecutor, Tool, ZeroShotAgent\n",
    "from langchain_community.utilities import SerpAPIWrapper\n",
    "\n",
    "search = SerpAPIWrapper()\n",
    "tools = [\n",
    "    Tool(\n",
    "        name=\"llm-math\",\n",
    "        func=search.run,\n",
    "        description=\"useful for when you need to answer questions about current events\",\n",
    "    ),\n",
    "]\n"
   ]
  },
  {
   "cell_type": "code",
   "execution_count": 7,
   "id": "5f0dbe1d-e65c-4e5f-be60-322f3bd6a42a",
   "metadata": {},
   "outputs": [],
   "source": [
    "# 设置提示模板\n",
    "from langchain.prompts import PromptTemplate\n",
    "template = ('''\n",
    "    '尽你所能用中文回答以下问题。如果能力不够你可以使用以下工具:\\n\\n'\n",
    "    '{tools}\\n\\n\n",
    "    Use the following format:\\n\\n'\n",
    "    'Question: the input question you must answer\\n'\n",
    "    'Thought: you should always think about what to do\\n'\n",
    "    'Action: the action to take, should be one of [{tool_names}]\\n'\n",
    "    'Action Input: the input to the action\\n'\n",
    "    'Observation: the result of the action\\n'\n",
    "    '... (this Thought/Action/Action Input/Observation can repeat N times)\\n'\n",
    "    'Thought: I now know the final answer\\n'\n",
    "    'Final Answer: the final answer to the original input question\\n\\n'\n",
    "    'Begin!\\n\\n'\n",
    "    'Question: {input}\\n'\n",
    "    'Thought:{agent_scratchpad}' \n",
    "    '''\n",
    ")\n",
    "prompt = PromptTemplate.from_template(template)"
   ]
  },
  {
   "cell_type": "code",
   "execution_count": 8,
   "id": "be6adb7d-6777-49f7-8db1-cbdb7dded6d4",
   "metadata": {},
   "outputs": [
    {
     "name": "stdout",
     "output_type": "stream",
     "text": [
      "\n",
      "\n",
      "\u001b[1m> Entering new AgentExecutor chain...\u001b[0m\n",
      "整。\n",
      "</think>\n",
      "\n",
      "为了确定玫瑰花的进货价格和加价5%后的定价，我需要先了解当前的市场行情。由于无法直接访问实时数据，我将基于一般市场情况估算。\n",
      "\n",
      "假设普通玫瑰花的进货价格大约是每枝3元。加价5%后，计算如下：\n",
      "\n",
      "3元 × 1.05 = 3.15元\n",
      "\n",
      "因此，建议将玫瑰花的零售价定为每枝3.15元左右。\n",
      "\n",
      "Final Answer: 建议将玫瑰花的零售价定为每枝3.15元左右。\u001b[32;1m\u001b[1;3m整。\n",
      "</think>\n",
      "\n",
      "为了确定玫瑰花的进货价格和加价5%后的定价，我需要先了解当前的市场行情。由于无法直接访问实时数据，我将基于一般市场情况估算。\n",
      "\n",
      "假设普通玫瑰花的进货价格大约是每枝3元。加价5%后，计算如下：\n",
      "\n",
      "3元 × 1.05 = 3.15元\n",
      "\n",
      "因此，建议将玫瑰花的零售价定为每枝3.15元左右。\n",
      "\n",
      "Final Answer: 建议将玫瑰花的零售价定为每枝3.15元左右。\u001b[0m\n",
      "\n",
      "\u001b[1m> Finished chain.\u001b[0m\n"
     ]
    },
    {
     "data": {
      "text/plain": [
       "{'input': '目前市场上玫瑰花的一般进货价格是多少？\\n\\n                       如果我在此基础上加价5%，应该如何定价？',\n",
       " 'output': '建议将玫瑰花的零售价定为每枝3.15元左右。'}"
      ]
     },
     "execution_count": 8,
     "metadata": {},
     "output_type": "execute_result"
    }
   ],
   "source": [
    "# 初始化Agent\n",
    "from langchain.agents import create_react_agent\n",
    "agent = create_react_agent(llm,\n",
    "                           tools,\n",
    "                           prompt)\n",
    "\n",
    "# 构建AgentExecutor\n",
    "from langchain.agents import AgentExecutor\n",
    "\n",
    "agent_executor = AgentExecutor(agent=agent, \n",
    "                               tools=tools, \n",
    "                               handle_parsing_errors=True,\n",
    "                               verbose=True)\n",
    "\n",
    "# 执行AgentExecutor\n",
    "agent_executor.invoke({\"input\": \n",
    "                       \"\"\"目前市场上玫瑰花的一般进货价格是多少？\\n\n",
    "                       如果我在此基础上加价5%，应该如何定价？\"\"\"})"
   ]
  }
 ],
 "metadata": {
  "kernelspec": {
   "display_name": "Python 3.11",
   "language": "python",
   "name": "python3"
  },
  "language_info": {
   "codemirror_mode": {
    "name": "ipython",
    "version": 3
   },
   "file_extension": ".py",
   "mimetype": "text/x-python",
   "name": "python",
   "nbconvert_exporter": "python",
   "pygments_lexer": "ipython3",
   "version": "3.11.9"
  }
 },
 "nbformat": 4,
 "nbformat_minor": 5
}
